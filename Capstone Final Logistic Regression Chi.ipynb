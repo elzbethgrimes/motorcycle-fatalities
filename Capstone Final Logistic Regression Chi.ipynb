{
 "cells": [
  {
   "cell_type": "markdown",
   "id": "1dccb0e3",
   "metadata": {},
   "source": [
    "### Analysis of Behavioral Risk Factors Involved in Motorcycle Fatalities\n"
   ]
  },
  {
   "cell_type": "code",
   "execution_count": 53,
   "id": "703022c0",
   "metadata": {},
   "outputs": [],
   "source": [
    "import pandas as pd\n",
    "import numpy as np\n",
    "from scipy.stats import chi2_contingency\n",
    "from scipy.stats import fisher_exact\n"
   ]
  },
  {
   "cell_type": "code",
   "execution_count": 54,
   "id": "38cc4dd9",
   "metadata": {},
   "outputs": [
    {
     "data": {
      "text/html": [
       "<div>\n",
       "<style scoped>\n",
       "    .dataframe tbody tr th:only-of-type {\n",
       "        vertical-align: middle;\n",
       "    }\n",
       "\n",
       "    .dataframe tbody tr th {\n",
       "        vertical-align: top;\n",
       "    }\n",
       "\n",
       "    .dataframe thead th {\n",
       "        text-align: right;\n",
       "    }\n",
       "</style>\n",
       "<table border=\"1\" class=\"dataframe\">\n",
       "  <thead>\n",
       "    <tr style=\"text-align: right;\">\n",
       "      <th></th>\n",
       "      <th>CASENUM</th>\n",
       "      <th>VEH_NO</th>\n",
       "      <th>MONTH</th>\n",
       "      <th>HOUR</th>\n",
       "      <th>YEAR</th>\n",
       "      <th>DAY_WEEK</th>\n",
       "      <th>INJURY</th>\n",
       "      <th>REST_USENAME</th>\n",
       "      <th>HELMET</th>\n",
       "      <th>DRINKING</th>\n",
       "      <th>DRUGS</th>\n",
       "      <th>IMPAIRMENT</th>\n",
       "    </tr>\n",
       "  </thead>\n",
       "  <tbody>\n",
       "    <tr>\n",
       "      <th>0</th>\n",
       "      <td>2.016000e+11</td>\n",
       "      <td>1</td>\n",
       "      <td>1</td>\n",
       "      <td>17</td>\n",
       "      <td>2016</td>\n",
       "      <td>2</td>\n",
       "      <td>Injury</td>\n",
       "      <td>No Helmet</td>\n",
       "      <td>False</td>\n",
       "      <td>False</td>\n",
       "      <td>False</td>\n",
       "      <td>None</td>\n",
       "    </tr>\n",
       "    <tr>\n",
       "      <th>1</th>\n",
       "      <td>2.016000e+11</td>\n",
       "      <td>1</td>\n",
       "      <td>1</td>\n",
       "      <td>19</td>\n",
       "      <td>2016</td>\n",
       "      <td>1</td>\n",
       "      <td>Injury</td>\n",
       "      <td>Helmet</td>\n",
       "      <td>True</td>\n",
       "      <td>True</td>\n",
       "      <td>False</td>\n",
       "      <td>Drugs, Alcohol, or Medication</td>\n",
       "    </tr>\n",
       "    <tr>\n",
       "      <th>2</th>\n",
       "      <td>2.016000e+11</td>\n",
       "      <td>2</td>\n",
       "      <td>1</td>\n",
       "      <td>12</td>\n",
       "      <td>2016</td>\n",
       "      <td>7</td>\n",
       "      <td>Injury</td>\n",
       "      <td>Helmet</td>\n",
       "      <td>True</td>\n",
       "      <td>False</td>\n",
       "      <td>False</td>\n",
       "      <td>None</td>\n",
       "    </tr>\n",
       "    <tr>\n",
       "      <th>3</th>\n",
       "      <td>2.016000e+11</td>\n",
       "      <td>2</td>\n",
       "      <td>1</td>\n",
       "      <td>3</td>\n",
       "      <td>2016</td>\n",
       "      <td>2</td>\n",
       "      <td>Injury</td>\n",
       "      <td>Helmet</td>\n",
       "      <td>True</td>\n",
       "      <td>False</td>\n",
       "      <td>False</td>\n",
       "      <td>NaN</td>\n",
       "    </tr>\n",
       "    <tr>\n",
       "      <th>4</th>\n",
       "      <td>2.016000e+11</td>\n",
       "      <td>1</td>\n",
       "      <td>1</td>\n",
       "      <td>16</td>\n",
       "      <td>2016</td>\n",
       "      <td>5</td>\n",
       "      <td>Injury</td>\n",
       "      <td>No Helmet</td>\n",
       "      <td>False</td>\n",
       "      <td>False</td>\n",
       "      <td>False</td>\n",
       "      <td>None</td>\n",
       "    </tr>\n",
       "  </tbody>\n",
       "</table>\n",
       "</div>"
      ],
      "text/plain": [
       "        CASENUM  VEH_NO  MONTH  HOUR  YEAR  DAY_WEEK  INJURY REST_USENAME  \\\n",
       "0  2.016000e+11       1      1    17  2016         2  Injury    No Helmet   \n",
       "1  2.016000e+11       1      1    19  2016         1  Injury       Helmet   \n",
       "2  2.016000e+11       2      1    12  2016         7  Injury       Helmet   \n",
       "3  2.016000e+11       2      1     3  2016         2  Injury       Helmet   \n",
       "4  2.016000e+11       1      1    16  2016         5  Injury    No Helmet   \n",
       "\n",
       "  HELMET DRINKING  DRUGS                     IMPAIRMENT  \n",
       "0  False    False  False                           None  \n",
       "1   True     True  False  Drugs, Alcohol, or Medication  \n",
       "2   True    False  False                           None  \n",
       "3   True    False  False                            NaN  \n",
       "4  False    False  False                           None  "
      ]
     },
     "execution_count": 54,
     "metadata": {},
     "output_type": "execute_result"
    }
   ],
   "source": [
    "df = pd.read_csv('CRSS_1619_csv.csv',encoding='cp1252')\n",
    "df.head()"
   ]
  },
  {
   "cell_type": "code",
   "execution_count": 55,
   "id": "38c74cf6",
   "metadata": {},
   "outputs": [],
   "source": [
    "#drop all rows with null values\n",
    "df = df.dropna(axis=0, inplace=False)"
   ]
  },
  {
   "cell_type": "code",
   "execution_count": 56,
   "id": "cc9b3f7e",
   "metadata": {},
   "outputs": [
    {
     "data": {
      "text/plain": [
       "Injury          7361\n",
       "No Injury        449\n",
       "Fatal Injury     225\n",
       "Name: INJURY, dtype: int64"
      ]
     },
     "execution_count": 56,
     "metadata": {},
     "output_type": "execute_result"
    }
   ],
   "source": [
    "#Chech value counts for injuries\n",
    "df['INJURY'].value_counts()"
   ]
  },
  {
   "cell_type": "code",
   "execution_count": 57,
   "id": "4c02c3d8",
   "metadata": {},
   "outputs": [
    {
     "data": {
      "text/plain": [
       "Not Fatal       7810\n",
       "Fatal Injury     225\n",
       "Name: INJURY, dtype: int64"
      ]
     },
     "execution_count": 57,
     "metadata": {},
     "output_type": "execute_result"
    }
   ],
   "source": [
    "#Create dataframe with fatal and not fatal injuries\n",
    "df_fatal= df.copy()\n",
    "df_fatal['INJURY'] =df_fatal['INJURY'].replace(['No Injury'], 'Not Fatal')\n",
    "df_fatal['INJURY'] = df_fatal['INJURY'].replace(['Injury'], 'Not Fatal')\n",
    "df_fatal.INJURY.value_counts()"
   ]
  },
  {
   "cell_type": "code",
   "execution_count": 58,
   "id": "28cd694d",
   "metadata": {},
   "outputs": [
    {
     "data": {
      "text/html": [
       "<div>\n",
       "<style scoped>\n",
       "    .dataframe tbody tr th:only-of-type {\n",
       "        vertical-align: middle;\n",
       "    }\n",
       "\n",
       "    .dataframe tbody tr th {\n",
       "        vertical-align: top;\n",
       "    }\n",
       "\n",
       "    .dataframe thead th {\n",
       "        text-align: right;\n",
       "    }\n",
       "</style>\n",
       "<table border=\"1\" class=\"dataframe\">\n",
       "  <thead>\n",
       "    <tr style=\"text-align: right;\">\n",
       "      <th></th>\n",
       "      <th>CASENUM</th>\n",
       "      <th>VEH_NO</th>\n",
       "      <th>MONTH</th>\n",
       "      <th>HOUR</th>\n",
       "      <th>YEAR</th>\n",
       "      <th>DAY_WEEK</th>\n",
       "      <th>INJURY</th>\n",
       "      <th>REST_USENAME</th>\n",
       "      <th>HELMET</th>\n",
       "      <th>DRINKING</th>\n",
       "      <th>DRUGS</th>\n",
       "      <th>IMPAIRMENT</th>\n",
       "      <th>NO_INJURY</th>\n",
       "      <th>NOT_DRINKING</th>\n",
       "      <th>NO_DRUGS</th>\n",
       "      <th>NO_HELMET</th>\n",
       "    </tr>\n",
       "  </thead>\n",
       "  <tbody>\n",
       "    <tr>\n",
       "      <th>0</th>\n",
       "      <td>2.016000e+11</td>\n",
       "      <td>1</td>\n",
       "      <td>1</td>\n",
       "      <td>17</td>\n",
       "      <td>2016</td>\n",
       "      <td>2</td>\n",
       "      <td>0</td>\n",
       "      <td>No Helmet</td>\n",
       "      <td>0</td>\n",
       "      <td>0</td>\n",
       "      <td>0</td>\n",
       "      <td>None</td>\n",
       "      <td>1</td>\n",
       "      <td>1</td>\n",
       "      <td>1</td>\n",
       "      <td>1</td>\n",
       "    </tr>\n",
       "    <tr>\n",
       "      <th>1</th>\n",
       "      <td>2.016000e+11</td>\n",
       "      <td>1</td>\n",
       "      <td>1</td>\n",
       "      <td>19</td>\n",
       "      <td>2016</td>\n",
       "      <td>1</td>\n",
       "      <td>0</td>\n",
       "      <td>Helmet</td>\n",
       "      <td>1</td>\n",
       "      <td>1</td>\n",
       "      <td>0</td>\n",
       "      <td>Drugs, Alcohol, or Medication</td>\n",
       "      <td>1</td>\n",
       "      <td>0</td>\n",
       "      <td>1</td>\n",
       "      <td>0</td>\n",
       "    </tr>\n",
       "    <tr>\n",
       "      <th>2</th>\n",
       "      <td>2.016000e+11</td>\n",
       "      <td>2</td>\n",
       "      <td>1</td>\n",
       "      <td>12</td>\n",
       "      <td>2016</td>\n",
       "      <td>7</td>\n",
       "      <td>0</td>\n",
       "      <td>Helmet</td>\n",
       "      <td>1</td>\n",
       "      <td>0</td>\n",
       "      <td>0</td>\n",
       "      <td>None</td>\n",
       "      <td>1</td>\n",
       "      <td>1</td>\n",
       "      <td>1</td>\n",
       "      <td>0</td>\n",
       "    </tr>\n",
       "    <tr>\n",
       "      <th>4</th>\n",
       "      <td>2.016000e+11</td>\n",
       "      <td>1</td>\n",
       "      <td>1</td>\n",
       "      <td>16</td>\n",
       "      <td>2016</td>\n",
       "      <td>5</td>\n",
       "      <td>0</td>\n",
       "      <td>No Helmet</td>\n",
       "      <td>0</td>\n",
       "      <td>0</td>\n",
       "      <td>0</td>\n",
       "      <td>None</td>\n",
       "      <td>1</td>\n",
       "      <td>1</td>\n",
       "      <td>1</td>\n",
       "      <td>1</td>\n",
       "    </tr>\n",
       "    <tr>\n",
       "      <th>5</th>\n",
       "      <td>2.016000e+11</td>\n",
       "      <td>1</td>\n",
       "      <td>1</td>\n",
       "      <td>11</td>\n",
       "      <td>2016</td>\n",
       "      <td>2</td>\n",
       "      <td>0</td>\n",
       "      <td>Helmet</td>\n",
       "      <td>1</td>\n",
       "      <td>0</td>\n",
       "      <td>1</td>\n",
       "      <td>None</td>\n",
       "      <td>1</td>\n",
       "      <td>1</td>\n",
       "      <td>0</td>\n",
       "      <td>0</td>\n",
       "    </tr>\n",
       "  </tbody>\n",
       "</table>\n",
       "</div>"
      ],
      "text/plain": [
       "        CASENUM  VEH_NO  MONTH  HOUR  YEAR  DAY_WEEK  INJURY REST_USENAME  \\\n",
       "0  2.016000e+11       1      1    17  2016         2       0    No Helmet   \n",
       "1  2.016000e+11       1      1    19  2016         1       0       Helmet   \n",
       "2  2.016000e+11       2      1    12  2016         7       0       Helmet   \n",
       "4  2.016000e+11       1      1    16  2016         5       0    No Helmet   \n",
       "5  2.016000e+11       1      1    11  2016         2       0       Helmet   \n",
       "\n",
       "   HELMET  DRINKING  DRUGS                     IMPAIRMENT  NO_INJURY  \\\n",
       "0       0         0      0                           None          1   \n",
       "1       1         1      0  Drugs, Alcohol, or Medication          1   \n",
       "2       1         0      0                           None          1   \n",
       "4       0         0      0                           None          1   \n",
       "5       1         0      1                           None          1   \n",
       "\n",
       "   NOT_DRINKING  NO_DRUGS  NO_HELMET  \n",
       "0             1         1          1  \n",
       "1             0         1          0  \n",
       "2             1         1          0  \n",
       "4             1         1          1  \n",
       "5             1         0          0  "
      ]
     },
     "execution_count": 58,
     "metadata": {},
     "output_type": "execute_result"
    }
   ],
   "source": [
    "#create binary columns indicating whether behavioral risk factors were present or not\n",
    "df_fatal[['INJURY', 'NO_INJURY']] = pd.get_dummies(df_fatal['INJURY'])\n",
    "df_fatal[['NOT_DRINKING','DRINKING']] = pd.get_dummies(df_fatal['DRINKING'])\n",
    "df_fatal[['NO_DRUGS','DRUGS']] = pd.get_dummies(df_fatal['DRUGS'])\n",
    "df_fatal[['NO_HELMET', 'HELMET']] = pd.get_dummies(df_fatal['HELMET'])\n",
    "df_fatal.head()"
   ]
  },
  {
   "cell_type": "code",
   "execution_count": 59,
   "id": "09296ed5",
   "metadata": {},
   "outputs": [],
   "source": [
    "#Drop all unnecessary columns \n",
    "dropcolumns=['CASENUM', 'VEH_NO', 'MONTH', 'HOUR', 'DAY_WEEK', 'REST_USENAME',\n",
    "             'NO_INJURY', 'NOT_DRINKING', 'NO_DRUGS', 'IMPAIRMENT', 'HELMET']"
   ]
  },
  {
   "cell_type": "code",
   "execution_count": 60,
   "id": "7c988399",
   "metadata": {},
   "outputs": [
    {
     "data": {
      "text/html": [
       "<div>\n",
       "<style scoped>\n",
       "    .dataframe tbody tr th:only-of-type {\n",
       "        vertical-align: middle;\n",
       "    }\n",
       "\n",
       "    .dataframe tbody tr th {\n",
       "        vertical-align: top;\n",
       "    }\n",
       "\n",
       "    .dataframe thead th {\n",
       "        text-align: right;\n",
       "    }\n",
       "</style>\n",
       "<table border=\"1\" class=\"dataframe\">\n",
       "  <thead>\n",
       "    <tr style=\"text-align: right;\">\n",
       "      <th></th>\n",
       "      <th>YEAR</th>\n",
       "      <th>INJURY</th>\n",
       "      <th>DRINKING</th>\n",
       "      <th>DRUGS</th>\n",
       "      <th>NO_HELMET</th>\n",
       "    </tr>\n",
       "  </thead>\n",
       "  <tbody>\n",
       "    <tr>\n",
       "      <th>0</th>\n",
       "      <td>2016</td>\n",
       "      <td>0</td>\n",
       "      <td>0</td>\n",
       "      <td>0</td>\n",
       "      <td>1</td>\n",
       "    </tr>\n",
       "    <tr>\n",
       "      <th>1</th>\n",
       "      <td>2016</td>\n",
       "      <td>0</td>\n",
       "      <td>1</td>\n",
       "      <td>0</td>\n",
       "      <td>0</td>\n",
       "    </tr>\n",
       "    <tr>\n",
       "      <th>2</th>\n",
       "      <td>2016</td>\n",
       "      <td>0</td>\n",
       "      <td>0</td>\n",
       "      <td>0</td>\n",
       "      <td>0</td>\n",
       "    </tr>\n",
       "    <tr>\n",
       "      <th>4</th>\n",
       "      <td>2016</td>\n",
       "      <td>0</td>\n",
       "      <td>0</td>\n",
       "      <td>0</td>\n",
       "      <td>1</td>\n",
       "    </tr>\n",
       "    <tr>\n",
       "      <th>5</th>\n",
       "      <td>2016</td>\n",
       "      <td>0</td>\n",
       "      <td>0</td>\n",
       "      <td>1</td>\n",
       "      <td>0</td>\n",
       "    </tr>\n",
       "  </tbody>\n",
       "</table>\n",
       "</div>"
      ],
      "text/plain": [
       "   YEAR  INJURY  DRINKING  DRUGS  NO_HELMET\n",
       "0  2016       0         0      0          1\n",
       "1  2016       0         1      0          0\n",
       "2  2016       0         0      0          0\n",
       "4  2016       0         0      0          1\n",
       "5  2016       0         0      1          0"
      ]
     },
     "execution_count": 60,
     "metadata": {},
     "output_type": "execute_result"
    }
   ],
   "source": [
    "df_drinkdrug = df_fatal.drop(dropcolumns, axis=1)\n",
    "df_drinkdrug.head()"
   ]
  },
  {
   "cell_type": "code",
   "execution_count": 61,
   "id": "697b109f",
   "metadata": {},
   "outputs": [],
   "source": [
    "import statsmodels.formula.api as smf"
   ]
  },
  {
   "cell_type": "code",
   "execution_count": 62,
   "id": "112d44d0",
   "metadata": {},
   "outputs": [
    {
     "name": "stdout",
     "output_type": "stream",
     "text": [
      "Optimization terminated successfully.\n",
      "         Current function value: 0.122498\n",
      "         Iterations 8\n"
     ]
    },
    {
     "data": {
      "text/html": [
       "<table class=\"simpletable\">\n",
       "<caption>Logit Regression Results</caption>\n",
       "<tr>\n",
       "  <th>Dep. Variable:</th>        <td>INJURY</td>      <th>  No. Observations:  </th>  <td>  8035</td>  \n",
       "</tr>\n",
       "<tr>\n",
       "  <th>Model:</th>                 <td>Logit</td>      <th>  Df Residuals:      </th>  <td>  8031</td>  \n",
       "</tr>\n",
       "<tr>\n",
       "  <th>Method:</th>                 <td>MLE</td>       <th>  Df Model:          </th>  <td>     3</td>  \n",
       "</tr>\n",
       "<tr>\n",
       "  <th>Date:</th>            <td>Mon, 19 Dec 2022</td> <th>  Pseudo R-squ.:     </th>  <td>0.04095</td> \n",
       "</tr>\n",
       "<tr>\n",
       "  <th>Time:</th>                <td>09:52:45</td>     <th>  Log-Likelihood:    </th> <td> -984.27</td> \n",
       "</tr>\n",
       "<tr>\n",
       "  <th>converged:</th>             <td>True</td>       <th>  LL-Null:           </th> <td> -1026.3</td> \n",
       "</tr>\n",
       "<tr>\n",
       "  <th>Covariance Type:</th>     <td>nonrobust</td>    <th>  LLR p-value:       </th> <td>4.146e-18</td>\n",
       "</tr>\n",
       "</table>\n",
       "<table class=\"simpletable\">\n",
       "<tr>\n",
       "      <td></td>         <th>coef</th>     <th>std err</th>      <th>z</th>      <th>P>|z|</th>  <th>[0.025</th>    <th>0.975]</th>  \n",
       "</tr>\n",
       "<tr>\n",
       "  <th>Intercept</th> <td>   -3.8531</td> <td>    0.091</td> <td>  -42.304</td> <td> 0.000</td> <td>   -4.032</td> <td>   -3.675</td>\n",
       "</tr>\n",
       "<tr>\n",
       "  <th>DRINKING</th>  <td>    0.8918</td> <td>    0.220</td> <td>    4.046</td> <td> 0.000</td> <td>    0.460</td> <td>    1.324</td>\n",
       "</tr>\n",
       "<tr>\n",
       "  <th>DRUGS</th>     <td>    1.5987</td> <td>    0.303</td> <td>    5.279</td> <td> 0.000</td> <td>    1.005</td> <td>    2.192</td>\n",
       "</tr>\n",
       "<tr>\n",
       "  <th>NO_HELMET</th> <td>    0.4437</td> <td>    0.142</td> <td>    3.134</td> <td> 0.002</td> <td>    0.166</td> <td>    0.721</td>\n",
       "</tr>\n",
       "</table>"
      ],
      "text/plain": [
       "<class 'statsmodels.iolib.summary.Summary'>\n",
       "\"\"\"\n",
       "                           Logit Regression Results                           \n",
       "==============================================================================\n",
       "Dep. Variable:                 INJURY   No. Observations:                 8035\n",
       "Model:                          Logit   Df Residuals:                     8031\n",
       "Method:                           MLE   Df Model:                            3\n",
       "Date:                Mon, 19 Dec 2022   Pseudo R-squ.:                 0.04095\n",
       "Time:                        09:52:45   Log-Likelihood:                -984.27\n",
       "converged:                       True   LL-Null:                       -1026.3\n",
       "Covariance Type:            nonrobust   LLR p-value:                 4.146e-18\n",
       "==============================================================================\n",
       "                 coef    std err          z      P>|z|      [0.025      0.975]\n",
       "------------------------------------------------------------------------------\n",
       "Intercept     -3.8531      0.091    -42.304      0.000      -4.032      -3.675\n",
       "DRINKING       0.8918      0.220      4.046      0.000       0.460       1.324\n",
       "DRUGS          1.5987      0.303      5.279      0.000       1.005       2.192\n",
       "NO_HELMET      0.4437      0.142      3.134      0.002       0.166       0.721\n",
       "==============================================================================\n",
       "\"\"\""
      ]
     },
     "execution_count": 62,
     "metadata": {},
     "output_type": "execute_result"
    }
   ],
   "source": [
    "log_reg = smf.logit(\"INJURY ~ DRINKING + DRUGS + NO_HELMET\", data=df_drinkdrug).fit()\n",
    "log_reg.summary()"
   ]
  },
  {
   "cell_type": "code",
   "execution_count": 63,
   "id": "a6f77bc1",
   "metadata": {
    "scrolled": true
   },
   "outputs": [
    {
     "data": {
      "text/html": [
       "<div>\n",
       "<style scoped>\n",
       "    .dataframe tbody tr th:only-of-type {\n",
       "        vertical-align: middle;\n",
       "    }\n",
       "\n",
       "    .dataframe tbody tr th {\n",
       "        vertical-align: top;\n",
       "    }\n",
       "\n",
       "    .dataframe thead th {\n",
       "        text-align: right;\n",
       "    }\n",
       "</style>\n",
       "<table border=\"1\" class=\"dataframe\">\n",
       "  <thead>\n",
       "    <tr style=\"text-align: right;\">\n",
       "      <th></th>\n",
       "      <th>0</th>\n",
       "      <th>1</th>\n",
       "    </tr>\n",
       "  </thead>\n",
       "  <tbody>\n",
       "    <tr>\n",
       "      <th>Intercept</th>\n",
       "      <td>-4.031600</td>\n",
       "      <td>-3.674571</td>\n",
       "    </tr>\n",
       "    <tr>\n",
       "      <th>DRINKING</th>\n",
       "      <td>0.459764</td>\n",
       "      <td>1.323774</td>\n",
       "    </tr>\n",
       "    <tr>\n",
       "      <th>DRUGS</th>\n",
       "      <td>1.005142</td>\n",
       "      <td>2.192203</td>\n",
       "    </tr>\n",
       "    <tr>\n",
       "      <th>NO_HELMET</th>\n",
       "      <td>0.166214</td>\n",
       "      <td>0.721151</td>\n",
       "    </tr>\n",
       "  </tbody>\n",
       "</table>\n",
       "</div>"
      ],
      "text/plain": [
       "                  0         1\n",
       "Intercept -4.031600 -3.674571\n",
       "DRINKING   0.459764  1.323774\n",
       "DRUGS      1.005142  2.192203\n",
       "NO_HELMET  0.166214  0.721151"
      ]
     },
     "execution_count": 63,
     "metadata": {},
     "output_type": "execute_result"
    }
   ],
   "source": [
    "#confidence intevals \n",
    "log_reg.conf_int(0.05)"
   ]
  },
  {
   "cell_type": "code",
   "execution_count": 64,
   "id": "4bd8e023",
   "metadata": {},
   "outputs": [
    {
     "data": {
      "text/plain": [
       "Intercept    0.000000e+00\n",
       "DRINKING     5.212975e-05\n",
       "DRUGS        1.297798e-07\n",
       "NO_HELMET    1.724069e-03\n",
       "dtype: float64"
      ]
     },
     "execution_count": 64,
     "metadata": {},
     "output_type": "execute_result"
    }
   ],
   "source": [
    "log_reg.pvalues"
   ]
  },
  {
   "cell_type": "markdown",
   "id": "b5cec13b",
   "metadata": {},
   "source": [
    "### The Hypothesis\n",
    "> H<sub>0</sub>: Behavioral risk factors have no impact on motorcycle fatalities   \n",
    "> H<sub>1</sub>: Behavioral risk factors have an impact on motorcycle fatalities \n"
   ]
  },
  {
   "cell_type": "code",
   "execution_count": 65,
   "id": "c010489b",
   "metadata": {},
   "outputs": [
    {
     "name": "stdout",
     "output_type": "stream",
     "text": [
      "p value is of Intercept: 0.0\n",
      "Dependent (reject H0)\n",
      "p value is of DRINKING: 5.212975494559715e-05\n",
      "Dependent (reject H0)\n",
      "p value is of DRUGS: 1.2977979461201601e-07\n",
      "Dependent (reject H0)\n",
      "p value is of NO_HELMET: 0.0017240691393289394\n",
      "Dependent (reject H0)\n"
     ]
    }
   ],
   "source": [
    "p_values = log_reg.pvalues\n",
    "n = 0\n",
    "for i in p_values:\n",
    "    \n",
    "    alpha = 0.05\n",
    "    index = p_values.index[n]\n",
    "    print(\"p value is of {}: {}\".format(index,i))\n",
    "    if i <= alpha:\n",
    "        print('Dependent (reject H0)')\n",
    "    else:\n",
    "        print('Independent (H0 holds true)')\n",
    "    n +=1\n"
   ]
  },
  {
   "cell_type": "code",
   "execution_count": 66,
   "id": "8fc4eca8",
   "metadata": {},
   "outputs": [
    {
     "name": "stdout",
     "output_type": "stream",
     "text": [
      "           Odds Ratio  Lower CI  Upper CI\n",
      "Intercept    0.021214  0.017746  0.025360\n",
      "DRINKING     2.439441  1.583700  3.757575\n",
      "DRUGS        4.946463  2.732296  8.954923\n",
      "NO_HELMET    1.558436  1.180826  2.056799\n"
     ]
    }
   ],
   "source": [
    "#the regression coefficient (b1) is the estimated increase in the log odds of the outcome per unit increase\n",
    "#in the value of the exposure (https://www.ncbi.nlm.nih.gov/pmc/articles/PMC2938757/)\n",
    "# ... Define and fit model\n",
    "odds_ratios = pd.DataFrame(\n",
    "    {\n",
    "        \"Odds Ratio\": log_reg.params,\n",
    "        \"Lower CI\": log_reg.conf_int()[0],\n",
    "        \"Upper CI\": log_reg.conf_int()[1],\n",
    "    }\n",
    ")\n",
    "odds_ratios = np.exp(odds_ratios)\n",
    "print(odds_ratios)"
   ]
  },
  {
   "cell_type": "markdown",
   "id": "a1e5f36e",
   "metadata": {},
   "source": [
    "### Odds Ratio\n",
    "With a 95% confidence interval:\n",
    "> people who drank alcohol were between 1.5 and 3.75 times more likely die in a motocycle accident    \n",
    "> people who engaged in drug use were between 2.73 and 8.95 times more likely die in a motocycle accident    \n",
    "> people who did not use a helmet were between 1.18 and 2.05 times more likely die in a motocycle accident  \n"
   ]
  },
  {
   "cell_type": "code",
   "execution_count": 67,
   "id": "ff5eabb1",
   "metadata": {},
   "outputs": [
    {
     "data": {
      "text/plain": [
       "Intercept   -3.853086\n",
       "DRINKING     0.891769\n",
       "DRUGS        1.598673\n",
       "NO_HELMET    0.443683\n",
       "dtype: float64"
      ]
     },
     "execution_count": 67,
     "metadata": {},
     "output_type": "execute_result"
    }
   ],
   "source": [
    "log_reg.params"
   ]
  },
  {
   "cell_type": "markdown",
   "id": "53316ce9",
   "metadata": {},
   "source": [
    "#### Chi-square test will be applied to each behavior to see if there is an impact on the rate of injury\n",
    "\n"
   ]
  },
  {
   "cell_type": "markdown",
   "id": "b502c3f1",
   "metadata": {},
   "source": [
    "> H<sub>0</sub>: Drinking has no impact on motorcycle fatalities   \n",
    "> H<sub>1</sub>: Drinking has an impact on motorcycle fatalities "
   ]
  },
  {
   "cell_type": "code",
   "execution_count": 68,
   "id": "88030cb0",
   "metadata": {},
   "outputs": [
    {
     "data": {
      "text/html": [
       "<div>\n",
       "<style scoped>\n",
       "    .dataframe tbody tr th:only-of-type {\n",
       "        vertical-align: middle;\n",
       "    }\n",
       "\n",
       "    .dataframe tbody tr th {\n",
       "        vertical-align: top;\n",
       "    }\n",
       "\n",
       "    .dataframe thead th {\n",
       "        text-align: right;\n",
       "    }\n",
       "</style>\n",
       "<table border=\"1\" class=\"dataframe\">\n",
       "  <thead>\n",
       "    <tr style=\"text-align: right;\">\n",
       "      <th>DRINKING</th>\n",
       "      <th>0</th>\n",
       "      <th>1</th>\n",
       "    </tr>\n",
       "    <tr>\n",
       "      <th>INJURY</th>\n",
       "      <th></th>\n",
       "      <th></th>\n",
       "    </tr>\n",
       "  </thead>\n",
       "  <tbody>\n",
       "    <tr>\n",
       "      <th>0</th>\n",
       "      <td>7407</td>\n",
       "      <td>403</td>\n",
       "    </tr>\n",
       "    <tr>\n",
       "      <th>1</th>\n",
       "      <td>183</td>\n",
       "      <td>42</td>\n",
       "    </tr>\n",
       "  </tbody>\n",
       "</table>\n",
       "</div>"
      ],
      "text/plain": [
       "DRINKING     0    1\n",
       "INJURY             \n",
       "0         7407  403\n",
       "1          183   42"
      ]
     },
     "execution_count": 68,
     "metadata": {},
     "output_type": "execute_result"
    }
   ],
   "source": [
    "#first the data is converted to a contingency table with frequencies\n",
    "contigency= pd.crosstab(df_drinkdrug['INJURY'], df_drinkdrug['DRINKING']) \n",
    "contigency"
   ]
  },
  {
   "cell_type": "code",
   "execution_count": 69,
   "id": "0ffad600",
   "metadata": {},
   "outputs": [
    {
     "data": {
      "text/plain": [
       "array([[7377.46110765,  432.53889235],\n",
       "       [ 212.53889235,   12.46110765]])"
      ]
     },
     "execution_count": 69,
     "metadata": {},
     "output_type": "execute_result"
    }
   ],
   "source": [
    "c, p, dof, expected = chi2_contingency(contigency, correction=True) \n",
    "expected"
   ]
  },
  {
   "cell_type": "markdown",
   "id": "7d3642d6",
   "metadata": {},
   "source": [
    "> Because all of the expected results are greater than five the chi-square test can be trusted. "
   ]
  },
  {
   "cell_type": "code",
   "execution_count": 70,
   "id": "ce0bba33",
   "metadata": {},
   "outputs": [
    {
     "name": "stdout",
     "output_type": "stream",
     "text": [
      "p value is 9.082238135917225e-18\n",
      "Dependent (reject H0)\n"
     ]
    }
   ],
   "source": [
    "# interpret p-value\n",
    "alpha = 0.05\n",
    "print(\"p value is \" + str(p))\n",
    "if p <= alpha:\n",
    "    print('Dependent (reject H0)')\n",
    "else:\n",
    "    print('Independent (H0 holds true)')"
   ]
  },
  {
   "cell_type": "markdown",
   "id": "51e5bfc6",
   "metadata": {},
   "source": [
    "> The p-value is lower than .05 so the null hypothesis is rejected and it is evident that drinking has an impact on motorcycle fatalities"
   ]
  },
  {
   "cell_type": "markdown",
   "id": "ccc85086",
   "metadata": {},
   "source": [
    "> H<sub>0</sub>: Helmet use has no impact on motorcycle fatalities   \n",
    "> H<sub>1</sub>: Helemt use has an impact on motorcycle fatalities \n"
   ]
  },
  {
   "cell_type": "code",
   "execution_count": 71,
   "id": "15de19b7",
   "metadata": {},
   "outputs": [
    {
     "data": {
      "text/html": [
       "<div>\n",
       "<style scoped>\n",
       "    .dataframe tbody tr th:only-of-type {\n",
       "        vertical-align: middle;\n",
       "    }\n",
       "\n",
       "    .dataframe tbody tr th {\n",
       "        vertical-align: top;\n",
       "    }\n",
       "\n",
       "    .dataframe thead th {\n",
       "        text-align: right;\n",
       "    }\n",
       "</style>\n",
       "<table border=\"1\" class=\"dataframe\">\n",
       "  <thead>\n",
       "    <tr style=\"text-align: right;\">\n",
       "      <th>NO_HELMET</th>\n",
       "      <th>0</th>\n",
       "      <th>1</th>\n",
       "    </tr>\n",
       "    <tr>\n",
       "      <th>INJURY</th>\n",
       "      <th></th>\n",
       "      <th></th>\n",
       "    </tr>\n",
       "  </thead>\n",
       "  <tbody>\n",
       "    <tr>\n",
       "      <th>0</th>\n",
       "      <td>5609</td>\n",
       "      <td>2201</td>\n",
       "    </tr>\n",
       "    <tr>\n",
       "      <th>1</th>\n",
       "      <td>132</td>\n",
       "      <td>93</td>\n",
       "    </tr>\n",
       "  </tbody>\n",
       "</table>\n",
       "</div>"
      ],
      "text/plain": [
       "NO_HELMET     0     1\n",
       "INJURY               \n",
       "0          5609  2201\n",
       "1           132    93"
      ]
     },
     "execution_count": 71,
     "metadata": {},
     "output_type": "execute_result"
    }
   ],
   "source": [
    "helcontigency= pd.crosstab(df_drinkdrug['INJURY'], df_drinkdrug['NO_HELMET']) \n",
    "helcontigency"
   ]
  },
  {
   "cell_type": "code",
   "execution_count": 72,
   "id": "d63408fa",
   "metadata": {},
   "outputs": [
    {
     "data": {
      "text/plain": [
       "array([[5580.23771002, 2229.76228998],\n",
       "       [ 160.76228998,   64.23771002]])"
      ]
     },
     "execution_count": 72,
     "metadata": {},
     "output_type": "execute_result"
    }
   ],
   "source": [
    "# Chi-square test of independence. \n",
    "c, p, dof, expected = chi2_contingency(helcontigency) \n",
    "# Print the expected values\n",
    "expected"
   ]
  },
  {
   "cell_type": "markdown",
   "id": "96462964",
   "metadata": {},
   "source": [
    "> Because all of the expected results are greater than five the chi-square test can be trusted. "
   ]
  },
  {
   "cell_type": "code",
   "execution_count": 73,
   "id": "6e57688b",
   "metadata": {},
   "outputs": [
    {
     "name": "stdout",
     "output_type": "stream",
     "text": [
      "p value is 2.3229324874636095e-05\n",
      "Dependent (reject H0)\n"
     ]
    }
   ],
   "source": [
    "# interpret p-value\n",
    "alpha = 0.05\n",
    "print(\"p value is \" + str(p))\n",
    "if p <= alpha:\n",
    "    print('Dependent (reject H0)')\n",
    "else:\n",
    "    print('Independent (H0 holds true)')"
   ]
  },
  {
   "cell_type": "markdown",
   "id": "b81255d6",
   "metadata": {},
   "source": [
    "> The p-value is lower than .05 so the null hypothesis is rejected and it is evident that helmet use has an impact on motorcycle fatalities"
   ]
  },
  {
   "cell_type": "markdown",
   "id": "8fc5e158",
   "metadata": {},
   "source": [
    "> H<sub>0</sub>: Drug use has no impact on motorcycle fatalities   \n",
    "> H<sub>1</sub>: Drug use has an impact on motorcycle fatalities "
   ]
  },
  {
   "cell_type": "code",
   "execution_count": 74,
   "id": "29c77eac",
   "metadata": {},
   "outputs": [
    {
     "data": {
      "text/html": [
       "<div>\n",
       "<style scoped>\n",
       "    .dataframe tbody tr th:only-of-type {\n",
       "        vertical-align: middle;\n",
       "    }\n",
       "\n",
       "    .dataframe tbody tr th {\n",
       "        vertical-align: top;\n",
       "    }\n",
       "\n",
       "    .dataframe thead th {\n",
       "        text-align: right;\n",
       "    }\n",
       "</style>\n",
       "<table border=\"1\" class=\"dataframe\">\n",
       "  <thead>\n",
       "    <tr style=\"text-align: right;\">\n",
       "      <th>DRUGS</th>\n",
       "      <th>0</th>\n",
       "      <th>1</th>\n",
       "    </tr>\n",
       "    <tr>\n",
       "      <th>INJURY</th>\n",
       "      <th></th>\n",
       "      <th></th>\n",
       "    </tr>\n",
       "  </thead>\n",
       "  <tbody>\n",
       "    <tr>\n",
       "      <th>0</th>\n",
       "      <td>7731</td>\n",
       "      <td>79</td>\n",
       "    </tr>\n",
       "    <tr>\n",
       "      <th>1</th>\n",
       "      <td>203</td>\n",
       "      <td>22</td>\n",
       "    </tr>\n",
       "  </tbody>\n",
       "</table>\n",
       "</div>"
      ],
      "text/plain": [
       "DRUGS      0   1\n",
       "INJURY          \n",
       "0       7731  79\n",
       "1        203  22"
      ]
     },
     "execution_count": 74,
     "metadata": {},
     "output_type": "execute_result"
    }
   ],
   "source": [
    "contigency_drug= pd.crosstab(df_drinkdrug['INJURY'], df_drinkdrug['DRUGS']) \n",
    "contigency_drug"
   ]
  },
  {
   "cell_type": "code",
   "execution_count": 75,
   "id": "1c5c0319",
   "metadata": {
    "scrolled": true
   },
   "outputs": [
    {
     "data": {
      "text/plain": [
       "array([[7.71182825e+03, 9.81717486e+01],\n",
       "       [2.22171749e+02, 2.82825140e+00]])"
      ]
     },
     "execution_count": 75,
     "metadata": {},
     "output_type": "execute_result"
    }
   ],
   "source": [
    "# Chi-square test of independence. \n",
    "c, p, dof, expected = chi2_contingency(contigency_drug) \n",
    "# Print the expected values\n",
    "expected"
   ]
  },
  {
   "cell_type": "markdown",
   "id": "6e2798a0",
   "metadata": {},
   "source": [
    "> Because all of the expected results are not greater than five I am unsure if the chi-square test can be trusted and will run a fisher test because it is better for smaller sized samples. "
   ]
  },
  {
   "cell_type": "code",
   "execution_count": 76,
   "id": "0ffb7d6f",
   "metadata": {},
   "outputs": [
    {
     "data": {
      "text/plain": [
       "(10.605599551038225, 3.2960302705117844e-14)"
      ]
     },
     "execution_count": 76,
     "metadata": {},
     "output_type": "execute_result"
    }
   ],
   "source": [
    "#Use fisher test because the size of observations is small  \n",
    "#Chi-square test of independence. \n",
    "oddr, p = fisher_exact(contigency_drug) \n",
    "# Print the expected values\n",
    "oddr, p\n"
   ]
  },
  {
   "cell_type": "code",
   "execution_count": 77,
   "id": "5e77fd00",
   "metadata": {},
   "outputs": [
    {
     "name": "stdout",
     "output_type": "stream",
     "text": [
      "p value is 3.2960302705117844e-14\n",
      "Dependent (reject H0)\n"
     ]
    }
   ],
   "source": [
    "# interpret p-value\n",
    "alpha = 0.05\n",
    "print(\"p value is \" + str(p))\n",
    "if p <= alpha:\n",
    "    print('Dependent (reject H0)')\n",
    "else:\n",
    "    print('Independent (H0 holds true)')"
   ]
  },
  {
   "cell_type": "markdown",
   "id": "c0272c4d",
   "metadata": {},
   "source": [
    "> The p-value is lower than .05 so the null hypothesis is rejected and it is evident that drug use has an impact on motorcycle fatalities"
   ]
  },
  {
   "cell_type": "markdown",
   "id": "98da3ef7",
   "metadata": {},
   "source": [
    "### Conclusion:\n",
    "\n",
    "> Based on these findings, we can conclude that behavioral risk factors significantly impact motorcycle fatalities. Therefore, it is in the best interest of all involved to proceed with the creation of educational materials based on these findings. Most importantly, the issue of drug use should be addressed first as it has the most consequential impact on the likelihood of death. "
   ]
  }
 ],
 "metadata": {
  "kernelspec": {
   "display_name": "Python 3 (ipykernel)",
   "language": "python",
   "name": "python3"
  },
  "language_info": {
   "codemirror_mode": {
    "name": "ipython",
    "version": 3
   },
   "file_extension": ".py",
   "mimetype": "text/x-python",
   "name": "python",
   "nbconvert_exporter": "python",
   "pygments_lexer": "ipython3",
   "version": "3.9.7"
  }
 },
 "nbformat": 4,
 "nbformat_minor": 5
}
